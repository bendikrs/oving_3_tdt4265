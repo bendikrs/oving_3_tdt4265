{
 "cells": [
  {
   "cell_type": "markdown",
   "metadata": {},
   "source": [
    "# Assignment 3 Report - Group 14\n",
    "Kristoffer Norli & Bendik Stokke"
   ]
  },
  {
   "cell_type": "markdown",
   "metadata": {},
   "source": [
    "# Task 1\n",
    "## task 1a)\n",
    "For task 1a) we chose to handle the boundary conditions by adding a one pixel wide padding of zeros around the image.\n",
    "![](pdfs_and_images/1a_f.jpg)"
   ]
  },
  {
   "source": [
    "![](pdfs_and_images/1g.jpg)"
   ],
   "cell_type": "markdown",
   "metadata": {}
  },
  {
   "cell_type": "markdown",
   "metadata": {},
   "source": [
    "# Task 2\n",
    "## 2 a)\n",
    "![](plots/task2_plot.png)"
   ]
  },
  {
   "source": [
    "## 2 b)\n",
    "Final validation accuracy   0.7221      \n",
    "Final train accuracy        0.8703      \n",
    "Final test accuracy         0.7311      "
   ],
   "cell_type": "markdown",
   "metadata": {}
  },
  {
   "cell_type": "markdown",
   "metadata": {},
   "source": [
    "# Task 3\n",
    "## 3 a)\n",
    "Model 1\n",
    "![](pdfs_and_images/task3_model1_best_plot.png)\n",
    "![](pdfs_and_images/model1_arkitektur.png) \n",
    "Final validation accuracy 0.78499\n",
    "Final train accuracy 0.92228 \n",
    "Final test accuracy 0.78119 \n",
    "Final train loss 0.23535 \n",
    "Batch size: 50, Learning rate: 0.02  \n",
    "Optimizer: Average SGD,weight decay = 0.001   \n",
    "\n",
    "\n",
    "Model 2\n",
    "![](plots/plotmodel2.png)\n",
    "\n",
    "\n",
    "\n",
    "## 3 b)\n",
    "![](plots/plottwomodels.png)\n",
    "![](plots/plotval.png)\n",
    "![](plots/plotvalAcc.png)\n",
    "\n",
    "## 3 c)\n"
   ]
  },
  {
   "cell_type": "markdown",
   "metadata": {},
   "source": [
    "# Task 4\n",
    "## 4 a)\n",
    "![](pdfs_and_images/task4a.png)\n",
    "We used the Adam optimizer\n",
    "Hyperparameters:\n",
    "batch_size = 32\n",
    "learning_rate = 5e-4\n",
    "\n",
    "Final test accuracy: 89,96%\n",
    "\n",
    "## 4 b)\n",
    "![](pdfs_and_images/task4b.png)\n",
    "We see that filter 14 looks for vertical lines, filter 26 for horizontal lines and filter 49 looks for diagonal lines in the image. Filter 32 and 52 looks like it tries to get the contour of the zebra by separating it from the background. \n",
    "\n",
    "## 4 c)\n",
    "![](pdfs_and_images/task4c.png)\n",
    "At the last layer, the activations are very small only 7x7 pixels. So we can see that the features the filters extract very specific things in the image, that seems very random.\n"
   ]
  }
 ],
 "metadata": {
  "kernelspec": {
   "display_name": "Python 3",
   "language": "python",
   "name": "python3"
  },
  "language_info": {
   "codemirror_mode": {
    "name": "ipython",
    "version": 3
   },
   "file_extension": ".py",
   "mimetype": "text/x-python",
   "name": "python",
   "nbconvert_exporter": "python",
   "pygments_lexer": "ipython3",
   "version": "3.6.10"
  }
 },
 "nbformat": 4,
 "nbformat_minor": 4
}