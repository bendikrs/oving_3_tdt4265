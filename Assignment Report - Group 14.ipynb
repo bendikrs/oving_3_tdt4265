{
 "cells": [
  {
   "cell_type": "markdown",
   "metadata": {},
   "source": [
    "# Assignment 3 Report - Group 14\n",
    "Kristoffer Norli & Bendik Stokke"
   ]
  },
  {
   "cell_type": "markdown",
   "metadata": {},
   "source": [
    "# Task 1\n",
    "## task 1a)\n",
    "For task 1a) we chose to handle the boundary conditions by adding a one pixel wide padding of zeros around the image.\n",
    "![](pdfs_and_images/1a_f.jpg)"
   ]
  },
  {
   "source": [
    "![](pdfs_and_images/1g.jpg)"
   ],
   "cell_type": "markdown",
   "metadata": {}
  },
  {
   "cell_type": "markdown",
   "metadata": {},
   "source": [
    "# Task 2\n",
    "## 2 a)\n",
    "![](plots/task2_plot.png)"
   ]
  },
  {
   "source": [
    "## 2 b)\n",
    "Final validation accuracy   0.7221      \n",
    "Final train accuracy        0.8703      \n",
    "Final test accuracy         0.7311      "
   ],
   "cell_type": "markdown",
   "metadata": {}
  },
  {
   "cell_type": "markdown",
   "metadata": {},
   "source": [
    "# Task 3"
   ]
  },
  {
   "cell_type": "markdown",
   "metadata": {},
   "source": [
    "# Task 4"
   ]
  }
 ],
 "metadata": {
  "kernelspec": {
   "display_name": "Python 3",
   "language": "python",
   "name": "python3"
  },
  "language_info": {
   "codemirror_mode": {
    "name": "ipython",
    "version": 3
   },
   "file_extension": ".py",
   "mimetype": "text/x-python",
   "name": "python",
   "nbconvert_exporter": "python",
   "pygments_lexer": "ipython3",
   "version": "3.6.10"
  }
 },
 "nbformat": 4,
 "nbformat_minor": 4
}