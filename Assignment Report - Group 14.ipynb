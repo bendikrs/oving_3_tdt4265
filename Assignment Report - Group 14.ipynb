{
 "cells": [
  {
   "cell_type": "markdown",
   "metadata": {},
   "source": [
    "# Assignment 3 Report - Group 14\n",
    "Kristoffer Norli & Bendik Stokke"
   ]
  },
  {
   "cell_type": "markdown",
   "metadata": {},
   "source": [
    "# Task 1\n",
    "## task 1a)\n",
    "For task 1a) we chose to handle the boundary conditions by adding a one pixel wide padding of zeros around the image.\n",
    "![](pdfs_and_images/1a_f.jpg)"
   ]
  },
  {
   "source": [
    "![](pdfs_and_images/1g.jpg)"
   ],
   "cell_type": "markdown",
   "metadata": {}
  },
  {
   "cell_type": "markdown",
   "metadata": {},
   "source": [
    "# Task 2\n",
    "## 2 a)\n",
    "![](plots/task2_plot.png)"
   ]
  },
  {
   "source": [
    "## 2 b)\n",
    "Final validation accuracy   0.7221      \n",
    "Final train accuracy        0.8703      \n",
    "Final test accuracy         0.7311      "
   ],
   "cell_type": "markdown",
   "metadata": {}
  },
  {
   "cell_type": "markdown",
   "metadata": {},
   "source": [
    "# Task 3\n",
    "## 3 a)\n",
    "Model 1\n",
    "![](plots/plotmodel1.png)\n",
    "\n",
    "Model 2\n",
    "![](plots/plotmodel2.png)\n",
    "\n",
    "\n",
    "5x5 -> 3x3 ei lita forbedring\n",
    "32 -> 64 filter ga også litt forbedring\n",
    "brigtness, og perspective transform ga dårligare resultat\n",
    "litt bedre me å fjerne siste conv\n",
    "\n",
    "\n",
    "## 3 b)\n",
    "![](plots/plottwomodels.png)\n",
    "![](plots/plotval.png)\n",
    "![](plots/plotvalAcc.png)\n",
    "\n",
    "## 3 c)\n"
   ]
  },
  {
   "cell_type": "markdown",
   "metadata": {},
   "source": [
    "# Task 4"
   ]
  }
 ],
 "metadata": {
  "kernelspec": {
   "display_name": "Python 3",
   "language": "python",
   "name": "python3"
  },
  "language_info": {
   "codemirror_mode": {
    "name": "ipython",
    "version": 3
   },
   "file_extension": ".py",
   "mimetype": "text/x-python",
   "name": "python",
   "nbconvert_exporter": "python",
   "pygments_lexer": "ipython3",
   "version": "3.6.10"
  }
 },
 "nbformat": 4,
 "nbformat_minor": 4
}